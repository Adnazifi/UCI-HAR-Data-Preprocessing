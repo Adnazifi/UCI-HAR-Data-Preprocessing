{
  "nbformat": 4,
  "nbformat_minor": 0,
  "metadata": {
    "colab": {
      "provenance": [],
      "authorship_tag": "ABX9TyM/ZIKnOjp6VBqScvrczMMd",
      "include_colab_link": true
    },
    "kernelspec": {
      "name": "python3",
      "display_name": "Python 3"
    },
    "language_info": {
      "name": "python"
    }
  },
  "cells": [
    {
      "cell_type": "markdown",
      "metadata": {
        "id": "view-in-github",
        "colab_type": "text"
      },
      "source": [
        "<a href=\"https://colab.research.google.com/github/Adnazifi/UCI-HAR-Data-Preprocessing/blob/main/Run_Analysis.ipynb\" target=\"_parent\"><img src=\"https://colab.research.google.com/assets/colab-badge.svg\" alt=\"Open In Colab\"/></a>"
      ]
    },
    {
      "cell_type": "code",
      "execution_count": 1,
      "metadata": {
        "colab": {
          "base_uri": "https://localhost:8080/"
        },
        "id": "5a9fWl4NgSnQ",
        "outputId": "94541de1-1c18-44fb-fbf1-13bd0b2ff656"
      },
      "outputs": [
        {
          "output_type": "execute_result",
          "data": {
            "text/plain": [
              "('UCI-HAR-dataset.zip', <http.client.HTTPMessage at 0x7f510c7c2890>)"
            ]
          },
          "metadata": {},
          "execution_count": 1
        }
      ],
      "source": [
        "import urllib.request\n",
        "\n",
        "url = \"https://d396qusza40orc.cloudfront.net/getdata%2Fprojectfiles%2FUCI%20HAR%20Dataset.zip\"\n",
        "file_name = \"UCI-HAR-dataset.zip\"\n",
        "\n",
        "# Download the file from the URL and save it as 'UCI-HAR-dataset.zip'\n",
        "urllib.request.urlretrieve(url, file_name)\n"
      ]
    },
    {
      "cell_type": "code",
      "source": [
        "import zipfile\n",
        "\n",
        "# Extract the files from the zip file\n",
        "with zipfile.ZipFile(file_name, 'r') as zip_ref:\n",
        "    zip_ref.extractall()\n"
      ],
      "metadata": {
        "id": "s2Z7oqbggY1j"
      },
      "execution_count": 2,
      "outputs": []
    },
    {
      "cell_type": "code",
      "source": [
        "import pandas as pd\n",
        "import numpy as np\n"
      ],
      "metadata": {
        "id": "AR5glj_2gc_X"
      },
      "execution_count": 3,
      "outputs": []
    },
    {
      "cell_type": "code",
      "source": [
        "feature_names = pd.read_csv('UCI HAR Dataset/features.txt', header=None, delim_whitespace=True)\n",
        "activity_labels = pd.read_csv('UCI HAR Dataset/activity_labels.txt', header=None, delim_whitespace=True)\n"
      ],
      "metadata": {
        "id": "MUTgwlekggeY"
      },
      "execution_count": 4,
      "outputs": []
    },
    {
      "cell_type": "code",
      "source": [
        "X_train = pd.read_csv('UCI HAR Dataset/train/X_train.txt', header=None, delim_whitespace=True)\n",
        "y_train = pd.read_csv('UCI HAR Dataset/train/y_train.txt', header=None, delim_whitespace=True)\n",
        "subject_train = pd.read_csv('UCI HAR Dataset/train/subject_train.txt', header=None, delim_whitespace=True)\n",
        "\n",
        "X_test = pd.read_csv('UCI HAR Dataset/test/X_test.txt', header=None, delim_whitespace=True)\n",
        "y_test = pd.read_csv('UCI HAR Dataset/test/y_test.txt', header=None, delim_whitespace=True)\n",
        "subject_test = pd.read_csv('UCI HAR Dataset/test/subject_test.txt', header=None, delim_whitespace=True)\n"
      ],
      "metadata": {
        "id": "ejdIS2WZgkNI"
      },
      "execution_count": 5,
      "outputs": []
    },
    {
      "cell_type": "code",
      "source": [
        "X = pd.concat([X_train, X_test], ignore_index=True)\n",
        "y = pd.concat([y_train, y_test], ignore_index=True)\n",
        "subject = pd.concat([subject_train, subject_test], ignore_index=True)\n",
        "\n",
        "X.columns = feature_names.iloc[:, 1].values\n"
      ],
      "metadata": {
        "id": "W74c5qdvgpeK"
      },
      "execution_count": 6,
      "outputs": []
    },
    {
      "cell_type": "code",
      "source": [
        "mean_std_cols = X.filter(regex='mean|std')\n"
      ],
      "metadata": {
        "id": "U033-wHKgs9Q"
      },
      "execution_count": 7,
      "outputs": []
    },
    {
      "cell_type": "code",
      "source": [
        "activity_labels_dict = dict(zip(activity_labels.iloc[:, 0], activity_labels.iloc[:, 1]))\n",
        "y['activity'] = y[0].map(activity_labels_dict)\n",
        "y = y.drop(0, axis=1)\n"
      ],
      "metadata": {
        "id": "MmNTkrEpgx2e"
      },
      "execution_count": 8,
      "outputs": []
    },
    {
      "cell_type": "code",
      "source": [
        "mean_std_cols.columns = [col.replace('()', '').replace('-', '').replace(',', '') for col in mean_std_cols.columns]\n"
      ],
      "metadata": {
        "id": "5RkjtiOVg1oU"
      },
      "execution_count": 9,
      "outputs": []
    },
    {
      "cell_type": "code",
      "source": [
        "data = pd.concat([subject, y, mean_std_cols], axis=1)\n"
      ],
      "metadata": {
        "id": "q3-_lBNVg5QP"
      },
      "execution_count": 10,
      "outputs": []
    },
    {
      "cell_type": "code",
      "source": [
        "# check column names\n",
        "print(data.columns)"
      ],
      "metadata": {
        "colab": {
          "base_uri": "https://localhost:8080/"
        },
        "id": "WcJZfI9EjbAV",
        "outputId": "3462a473-0813-4cfe-84e0-4d48d6255af4"
      },
      "execution_count": 24,
      "outputs": [
        {
          "output_type": "stream",
          "name": "stdout",
          "text": [
            "Index([                             0,                     'activity',\n",
            "                      'tBodyAccmeanX',                'tBodyAccmeanY',\n",
            "                      'tBodyAccmeanZ',                 'tBodyAccstdX',\n",
            "                       'tBodyAccstdY',                 'tBodyAccstdZ',\n",
            "                   'tGravityAccmeanX',             'tGravityAccmeanY',\n",
            "                   'tGravityAccmeanZ',              'tGravityAccstdX',\n",
            "                    'tGravityAccstdY',              'tGravityAccstdZ',\n",
            "                  'tBodyAccJerkmeanX',            'tBodyAccJerkmeanY',\n",
            "                  'tBodyAccJerkmeanZ',             'tBodyAccJerkstdX',\n",
            "                   'tBodyAccJerkstdY',             'tBodyAccJerkstdZ',\n",
            "                     'tBodyGyromeanX',               'tBodyGyromeanY',\n",
            "                     'tBodyGyromeanZ',                'tBodyGyrostdX',\n",
            "                      'tBodyGyrostdY',                'tBodyGyrostdZ',\n",
            "                 'tBodyGyroJerkmeanX',           'tBodyGyroJerkmeanY',\n",
            "                 'tBodyGyroJerkmeanZ',            'tBodyGyroJerkstdX',\n",
            "                  'tBodyGyroJerkstdY',            'tBodyGyroJerkstdZ',\n",
            "                    'tBodyAccMagmean',               'tBodyAccMagstd',\n",
            "                 'tGravityAccMagmean',            'tGravityAccMagstd',\n",
            "                'tBodyAccJerkMagmean',           'tBodyAccJerkMagstd',\n",
            "                   'tBodyGyroMagmean',              'tBodyGyroMagstd',\n",
            "               'tBodyGyroJerkMagmean',          'tBodyGyroJerkMagstd',\n",
            "                      'fBodyAccmeanX',                'fBodyAccmeanY',\n",
            "                      'fBodyAccmeanZ',                 'fBodyAccstdX',\n",
            "                       'fBodyAccstdY',                 'fBodyAccstdZ',\n",
            "                  'fBodyAccmeanFreqX',            'fBodyAccmeanFreqY',\n",
            "                  'fBodyAccmeanFreqZ',            'fBodyAccJerkmeanX',\n",
            "                  'fBodyAccJerkmeanY',            'fBodyAccJerkmeanZ',\n",
            "                   'fBodyAccJerkstdX',             'fBodyAccJerkstdY',\n",
            "                   'fBodyAccJerkstdZ',        'fBodyAccJerkmeanFreqX',\n",
            "              'fBodyAccJerkmeanFreqY',        'fBodyAccJerkmeanFreqZ',\n",
            "                     'fBodyGyromeanX',               'fBodyGyromeanY',\n",
            "                     'fBodyGyromeanZ',                'fBodyGyrostdX',\n",
            "                      'fBodyGyrostdY',                'fBodyGyrostdZ',\n",
            "                 'fBodyGyromeanFreqX',           'fBodyGyromeanFreqY',\n",
            "                 'fBodyGyromeanFreqZ',              'fBodyAccMagmean',\n",
            "                     'fBodyAccMagstd',          'fBodyAccMagmeanFreq',\n",
            "            'fBodyBodyAccJerkMagmean',       'fBodyBodyAccJerkMagstd',\n",
            "        'fBodyBodyAccJerkMagmeanFreq',         'fBodyBodyGyroMagmean',\n",
            "                'fBodyBodyGyroMagstd',     'fBodyBodyGyroMagmeanFreq',\n",
            "           'fBodyBodyGyroJerkMagmean',      'fBodyBodyGyroJerkMagstd',\n",
            "       'fBodyBodyGyroJerkMagmeanFreq'],\n",
            "      dtype='object')\n"
          ]
        }
      ]
    }
  ]
}